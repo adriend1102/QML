{
 "cells": [
  {
   "cell_type": "markdown",
   "source": [
    "# MNIST classification using Variational Quantum Classifier\n",
    "\n",
    "\n",
    "* **Author**: yeray142 (Yeray C.)\n",
    "* **Date**: 2023/09/16\n",
    "* **Version**: 1.0\n",
    "* **Description**: Variational Quantum Classifier model applied to MNIST dataset."
   ],
   "metadata": {
    "collapsed": false
   }
  },
  {
   "cell_type": "markdown",
   "source": [
    "## Setup"
   ],
   "metadata": {
    "collapsed": false
   }
  },
  {
   "cell_type": "code",
   "execution_count": 55,
   "metadata": {
    "collapsed": true,
    "ExecuteTime": {
     "start_time": "2023-09-16T19:48:12.313366Z",
     "end_time": "2023-09-16T19:48:12.351366Z"
    }
   },
   "outputs": [],
   "source": [
    "import numpy as np\n",
    "import pandas as pd\n",
    "import tensorflow as tf\n",
    "import matplotlib.pyplot as plt"
   ]
  },
  {
   "cell_type": "markdown",
   "source": [
    "## Part 1 - Data preprocessing"
   ],
   "metadata": {
    "collapsed": false
   }
  },
  {
   "cell_type": "markdown",
   "source": [
    "### Importing MNIST dataset"
   ],
   "metadata": {
    "collapsed": false
   }
  },
  {
   "cell_type": "code",
   "execution_count": 56,
   "outputs": [
    {
     "name": "stdout",
     "output_type": "stream",
     "text": [
      "(60000, 28, 28)\n"
     ]
    }
   ],
   "source": [
    "(x_train, y_train), (x_test, y_test) = tf.keras.datasets.mnist.load_data()\n",
    "print(x_train.shape)"
   ],
   "metadata": {
    "collapsed": false,
    "ExecuteTime": {
     "start_time": "2023-09-16T19:48:12.317866Z",
     "end_time": "2023-09-16T19:48:12.502921Z"
    }
   }
  },
  {
   "cell_type": "markdown",
   "source": [
    "### Flattening the images to 1D array"
   ],
   "metadata": {
    "collapsed": false
   }
  },
  {
   "cell_type": "code",
   "execution_count": 57,
   "outputs": [
    {
     "name": "stdout",
     "output_type": "stream",
     "text": [
      "(60000, 784)\n"
     ]
    }
   ],
   "source": [
    "x_train_flattened = x_train.reshape(x_train.shape[0], -1)\n",
    "x_test_flattened = x_test.reshape(x_test.shape[0], -1)\n",
    "print(x_train_flattened.shape)"
   ],
   "metadata": {
    "collapsed": false,
    "ExecuteTime": {
     "start_time": "2023-09-16T19:48:12.503921Z",
     "end_time": "2023-09-16T19:48:12.547916Z"
    }
   }
  },
  {
   "cell_type": "markdown",
   "source": [
    "### Standardizing data"
   ],
   "metadata": {
    "collapsed": false
   }
  },
  {
   "cell_type": "code",
   "execution_count": 58,
   "outputs": [],
   "source": [
    "from sklearn.preprocessing import StandardScaler\n",
    "\n",
    "scaler = StandardScaler()\n",
    "x_train_flattened_standardize = scaler.fit_transform(x_train_flattened)\n",
    "x_test_flattened_standardize = scaler.transform(x_test_flattened)"
   ],
   "metadata": {
    "collapsed": false,
    "ExecuteTime": {
     "start_time": "2023-09-16T19:48:12.519420Z",
     "end_time": "2023-09-16T19:48:13.107231Z"
    }
   }
  },
  {
   "cell_type": "markdown",
   "source": [
    "### Dimensionality reduction"
   ],
   "metadata": {
    "collapsed": false
   }
  },
  {
   "cell_type": "code",
   "execution_count": 59,
   "outputs": [],
   "source": [
    "from sklearn.decomposition import KernelPCA\n",
    "\n",
    "# Use t-SNE technique to reduce dimensions to 2\n",
    "k_pca = KernelPCA(n_components=2, kernel='rbf')\n",
    "train_data_features_reduced = k_pca.fit_transform(x_train_flattened_standardize)\n",
    "test_data_features_reduced = k_pca.transform(x_test_flattened_standardize)"
   ],
   "metadata": {
    "collapsed": false,
    "ExecuteTime": {
     "start_time": "2023-09-16T19:48:13.107231Z",
     "end_time": "2023-09-16T20:04:06.619195Z"
    }
   }
  },
  {
   "cell_type": "markdown",
   "source": [
    "### Feature scaling"
   ],
   "metadata": {
    "collapsed": false
   }
  },
  {
   "cell_type": "code",
   "execution_count": 60,
   "outputs": [],
   "source": [
    "def filter_36(x, y):\n",
    "    keep = (y == 3) | (y == 6)\n",
    "    x, y = x[keep], y[keep]\n",
    "    y = y == 3\n",
    "    return x,y"
   ],
   "metadata": {
    "collapsed": false,
    "ExecuteTime": {
     "start_time": "2023-09-16T20:04:06.606691Z",
     "end_time": "2023-09-16T20:04:06.693207Z"
    }
   }
  },
  {
   "cell_type": "code",
   "execution_count": 61,
   "outputs": [
    {
     "data": {
      "text/plain": "(12049, 2)"
     },
     "execution_count": 61,
     "metadata": {},
     "output_type": "execute_result"
    }
   ],
   "source": [
    "from sklearn.preprocessing import MinMaxScaler\n",
    "\n",
    "X_train_pca_filtered, y_train_filtered = filter_36(train_data_features_reduced, y_train)\n",
    "X_test_pca_filtered, y_test_filtered = filter_36(test_data_features_reduced, y_test)\n",
    "\n",
    "sc = MinMaxScaler()\n",
    "X_train = sc.fit_transform(X_train_pca_filtered)\n",
    "X_test = sc.transform(X_test_pca_filtered)\n",
    "X_train.shape"
   ],
   "metadata": {
    "collapsed": false,
    "ExecuteTime": {
     "start_time": "2023-09-16T20:04:06.608192Z",
     "end_time": "2023-09-16T20:04:06.700207Z"
    }
   }
  },
  {
   "cell_type": "markdown",
   "source": [
    "## Part 2 - Model training"
   ],
   "metadata": {
    "collapsed": false
   }
  },
  {
   "cell_type": "markdown",
   "source": [
    "### Feature map"
   ],
   "metadata": {
    "collapsed": false
   }
  },
  {
   "cell_type": "code",
   "execution_count": 62,
   "outputs": [
    {
     "data": {
      "text/plain": "<Figure size 929.252x144.48 with 1 Axes>",
      "image/png": "[encoded data removed]"
     },
     "execution_count": 62,
     "metadata": {},
     "output_type": "execute_result"
    }
   ],
   "source": [
    "from qiskit.circuit.library import ZZFeatureMap\n",
    "\n",
    "feature_map = ZZFeatureMap(feature_dimension=X_train.shape[1], reps=2)\n",
    "feature_map.decompose().draw(output=\"mpl\", fold=30)"
   ],
   "metadata": {
    "collapsed": false,
    "ExecuteTime": {
     "start_time": "2023-09-16T20:04:06.628196Z",
     "end_time": "2023-09-16T20:04:07.117278Z"
    }
   }
  },
  {
   "cell_type": "markdown",
   "source": [
    "### Ansatz circuit"
   ],
   "metadata": {
    "collapsed": false
   }
  },
  {
   "cell_type": "code",
   "execution_count": 63,
   "outputs": [
    {
     "data": {
      "text/plain": "<Figure size 748.652x144.48 with 1 Axes>",
      "image/png": "[encoded data removed]"
     },
     "execution_count": 63,
     "metadata": {},
     "output_type": "execute_result"
    }
   ],
   "source": [
    "from qiskit.circuit.library import TwoLocal\n",
    "\n",
    "ansatz = TwoLocal(X_train.shape[1], ['ry', 'rz'], 'cz', reps=3)\n",
    "ansatz.decompose().draw(output=\"mpl\", fold=30)"
   ],
   "metadata": {
    "collapsed": false,
    "ExecuteTime": {
     "start_time": "2023-09-16T20:04:06.840745Z",
     "end_time": "2023-09-16T20:04:07.120777Z"
    }
   }
  },
  {
   "cell_type": "markdown",
   "source": [
    "### Optimization Algorithm"
   ],
   "metadata": {
    "collapsed": false
   }
  },
  {
   "cell_type": "code",
   "execution_count": 64,
   "outputs": [],
   "source": [
    "from qiskit_algorithms.optimizers import COBYLA\n",
    "\n",
    "optimizer = COBYLA(maxiter=150)"
   ],
   "metadata": {
    "collapsed": false,
    "ExecuteTime": {
     "start_time": "2023-09-16T20:04:07.051772Z",
     "end_time": "2023-09-16T20:04:07.121283Z"
    }
   }
  },
  {
   "cell_type": "markdown",
   "source": [
    "### Define callback function"
   ],
   "metadata": {
    "collapsed": false
   }
  },
  {
   "cell_type": "code",
   "execution_count": 65,
   "outputs": [],
   "source": [
    "from matplotlib import pyplot as plt\n",
    "from IPython.display import clear_output\n",
    "\n",
    "objective_func_vals = []\n",
    "plt.rcParams[\"figure.figsize\"] = (12, 6)\n",
    "\n",
    "\n",
    "def callback_graph(weights, obj_func_eval):\n",
    "    clear_output(wait=True)\n",
    "    objective_func_vals.append(obj_func_eval)\n",
    "    plt.title(\"Objective function value against iteration\")\n",
    "    plt.xlabel(\"Iteration\")\n",
    "    plt.ylabel(\"Objective function value\")\n",
    "    plt.plot(range(len(objective_func_vals)), objective_func_vals)\n",
    "    plt.show()"
   ],
   "metadata": {
    "collapsed": false,
    "ExecuteTime": {
     "start_time": "2023-09-16T20:04:07.052777Z",
     "end_time": "2023-09-16T20:04:07.121283Z"
    }
   }
  },
  {
   "cell_type": "markdown",
   "source": [
    "### Training model on train dataset"
   ],
   "metadata": {
    "collapsed": false
   }
  },
  {
   "cell_type": "code",
   "execution_count": 66,
   "outputs": [
    {
     "data": {
      "text/plain": "<Figure size 864x432 with 1 Axes>",
      "image/png": "[encoded data removed]"
     },
     "metadata": {
      "needs_background": "light"
     },
     "output_type": "display_data"
    },
    {
     "name": "stdout",
     "output_type": "stream",
     "text": [
      "Training time: 53 seconds\n"
     ]
    }
   ],
   "source": [
    "import time\n",
    "from qiskit_machine_learning.algorithms.classifiers import VQC\n",
    "\n",
    "train_size = 60\n",
    "test_size = 10\n",
    "X_train = X_train[:train_size]\n",
    "y_train = y_train_filtered[:train_size]\n",
    "X_test = X_test[:test_size]\n",
    "y_test = y_test_filtered[:test_size]\n",
    "\n",
    "vqc = VQC(\n",
    "    feature_map=feature_map,\n",
    "    ansatz=ansatz,\n",
    "    loss=\"cross_entropy\",\n",
    "    optimizer=optimizer,\n",
    "    callback=callback_graph,\n",
    ")\n",
    "\n",
    "# clear objective value history\n",
    "objective_func_vals = []\n",
    "\n",
    "start = time.time()\n",
    "vqc.fit(X_train, y_train)\n",
    "elapsed = time.time() - start\n",
    "\n",
    "print(f\"Training time: {round(elapsed)} seconds\")"
   ],
   "metadata": {
    "collapsed": false,
    "ExecuteTime": {
     "start_time": "2023-09-16T20:04:07.052777Z",
     "end_time": "2023-09-16T20:05:00.268724Z"
    }
   }
  },
  {
   "cell_type": "markdown",
   "source": [
    "## Part 4 - Testing on test dataset and evaluating model"
   ],
   "metadata": {
    "collapsed": false
   }
  },
  {
   "cell_type": "code",
   "execution_count": 67,
   "outputs": [
    {
     "name": "stdout",
     "output_type": "stream",
     "text": [
      "Quantum VQC on the training dataset: 0.73\n",
      "Quantum VQC on the test dataset:     0.50\n",
      "[ True  True False False False False  True  True  True  True]\n"
     ]
    }
   ],
   "source": [
    "train_score_q4 = vqc.score(X_train, y_train)\n",
    "test_score_q4 = vqc.score(X_test, y_test)\n",
    "\n",
    "print(f\"Quantum VQC on the training dataset: {train_score_q4:.2f}\")\n",
    "print(f\"Quantum VQC on the test dataset:     {test_score_q4:.2f}\")\n",
    "\n",
    "y_pred = vqc.predict(X_test)\n",
    "print(y_pred)"
   ],
   "metadata": {
    "collapsed": false,
    "ExecuteTime": {
     "start_time": "2023-09-16T20:05:00.270724Z",
     "end_time": "2023-09-16T20:05:00.625293Z"
    }
   }
  }
 ],
 "metadata": {
  "kernelspec": {
   "display_name": "Python 3",
   "language": "python",
   "name": "python3"
  },
  "language_info": {
   "codemirror_mode": {
    "name": "ipython",
    "version": 2
   },
   "file_extension": ".py",
   "mimetype": "text/x-python",
   "name": "python",
   "nbconvert_exporter": "python",
   "pygments_lexer": "ipython2",
   "version": "2.7.6"
  }
 },
 "nbformat": 4,
 "nbformat_minor": 0
}
