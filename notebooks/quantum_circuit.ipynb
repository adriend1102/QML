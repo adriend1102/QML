{
 "cells": [
  {
   "cell_type": "markdown",
   "source": [
    "# Quantum Circuit Implementation using Qiskit\n",
    "\n",
    "\n",
    "* **Author**: yeray142 (Yeray C.)\n",
    "* **Date**: 2023/09/30\n",
    "* **Updated**: 2023/10/02\n",
    "* **Version**: 1.1\n",
    "* **Description**: This notebook explores the implementation of a custom quantum circuit using the Qiskit library for Quantum Machine Learning (Quantum ML). Qiskit, developed by IBM, is an open-source quantum computing framework that enables the creation, manipulation, and simulation of quantum circuits.\n",
    "\n",
    "This Jupyter Notebook demonstrates the implementation of a custom quantum circuit using the Qiskit library for Quantum Machine Learning (Quantum ML). Qiskit is an open-source quantum computing framework developed by IBM, which allows users to create, manipulate, and simulate quantum circuits.\n",
    "\n",
    "In this notebook, we will explore the fundamentals of quantum circuits, including qubits, gates, and measurements, and create a custom quantum circuit for a specific task. Quantum computing has the potential to revolutionize various fields, and this notebook serves as a practical introduction to working with quantum circuits using Qiskit.\n",
    "\n",
    "**Table of Contents:**\n",
    "\n",
    "1. [Setup](#setup)\n",
    "2. [Quantum Circuits Basics](#quantum-circuits-basics)\n",
    "3. [Custom Quantum Circuit](#custom-quantum-circuit)\n",
    "4. [Custom Feature Map](#custom-feature-map)\n",
    "5. [Conclusions](#conclusions)\n",
    "\n",
    "Let's get started by setting up our environment and exploring the basics of quantum circuits."
   ],
   "metadata": {
    "collapsed": false
   }
  },
  {
   "cell_type": "markdown",
   "source": [
    "## Setup\n",
    "\n",
    "Before we dive into creating custom quantum circuits with Qiskit, it's important to ensure that you have the necessary libraries and components installed. This section will cover the setup and installation process.\n",
    "\n",
    "In the first code cell, we import the required libraries:\n"
   ],
   "metadata": {
    "collapsed": false
   }
  },
  {
   "cell_type": "code",
   "execution_count": 1,
   "metadata": {
    "collapsed": true,
    "ExecuteTime": {
     "start_time": "2023-10-02T21:05:19.198135Z",
     "end_time": "2023-10-02T21:05:21.012851Z"
    }
   },
   "outputs": [],
   "source": [
    "from qiskit.circuit import Parameter, ParameterVector\n",
    "from qiskit import QuantumCircuit\n",
    "import matplotlib.pyplot as plt"
   ]
  },
  {
   "cell_type": "markdown",
   "source": [
    "## Quantum Circuits Basics\n",
    "\n",
    "In this section, we will explore the fundamental components and operations of quantum circuits using Qiskit. We'll create a simple quantum circuit and visualize it using Matplotlib.\n",
    "\n",
    "The following Python code cell demonstrates the creation of a basic quantum circuit.\n",
    "\n",
    "Here's a breakdown of what this code does:\n",
    "\n",
    "* We define symbolic parameters inputs and x using ParameterVector. These parameters will be used in our quantum circuit.\n",
    "* We create a QuantumCircuit object qc with 2 quantum bits (qubits).\n",
    "* We apply a Hadamard gate (_qc.h_) to both qubits (qubits 0 and 1).\n",
    "* Next, we apply single-qubit rotation gates (_qc.rz_) to qubits 0 and 1, controlled by the symbolic parameters x[0] and x[1], respectively.\n",
    "* We apply a CNOT gate (_qc.cnot_ or _qc.cx_) between qubits 0 and 1.\n",
    "* Finally, we apply another single-qubit rotation gate to qubit 1, controlled by the product of x[0] and x[1].\n",
    "* To visualize this quantum circuit, we use _qc.draw(\"mpl\")_, which generates a Matplotlib plot of the circuit."
   ],
   "metadata": {
    "collapsed": false
   }
  },
  {
   "cell_type": "code",
   "execution_count": 2,
   "outputs": [
    {
     "data": {
      "text/plain": "<Figure size 327.252x144.48 with 1 Axes>",
      "image/png": "[encoded data removed]"
     },
     "execution_count": 2,
     "metadata": {},
     "output_type": "execute_result"
    }
   ],
   "source": [
    "inputs = ParameterVector(\"input\", 2)\n",
    "x = ParameterVector(\"x\", 4)\n",
    "\n",
    "qc = QuantumCircuit(2)\n",
    "qc.h(0)\n",
    "qc.h(1)\n",
    "qc.rz(x[0], 0)\n",
    "qc.rz(x[1], 1)\n",
    "qc.cnot(0, 1) # Same as qc.cx(0, 1)\n",
    "qc.rz(x[0] * x[1], 1)\n",
    "qc.draw(\"mpl\")"
   ],
   "metadata": {
    "collapsed": false,
    "ExecuteTime": {
     "start_time": "2023-10-02T21:05:21.008853Z",
     "end_time": "2023-10-02T21:05:21.300519Z"
    }
   }
  },
  {
   "cell_type": "markdown",
   "source": [
    "## Custom Quantum Circuit\n",
    "\n",
    "In this section, we define a custom quantum circuit function and create a quantum circuit instance using Qiskit. The custom quantum circuit is created with the goal of demonstrating how to use symbolic parameters effectively in quantum circuits.\n",
    "\n",
    "The following Python code cell defines the custom quantum circuit function and generates a visualization of the circuit:\n"
   ],
   "metadata": {
    "collapsed": false
   }
  },
  {
   "cell_type": "code",
   "execution_count": 3,
   "outputs": [
    {
     "data": {
      "text/plain": "<Figure size 327.252x144.48 with 1 Axes>",
      "image/png": "[encoded data removed]"
     },
     "execution_count": 3,
     "metadata": {},
     "output_type": "execute_result"
    }
   ],
   "source": [
    "def q_circuit(params):\n",
    "    qc = QuantumCircuit(2)\n",
    "    qc.h(0)\n",
    "    qc.h(1)\n",
    "    qc.rz(params[0], 0)\n",
    "    qc.rz(params[1], 1)\n",
    "    qc.cnot(0, 1) # Same as qc.cx(0, 1)\n",
    "    qc.rz(params[0] * params[1], 1)\n",
    "    return qc\n",
    "\n",
    "x = ParameterVector(\"x\", 4)\n",
    "circuit = q_circuit(x)\n",
    "circuit.draw(\"mpl\")"
   ],
   "metadata": {
    "collapsed": false,
    "ExecuteTime": {
     "start_time": "2023-10-02T21:05:21.300519Z",
     "end_time": "2023-10-02T21:05:21.383550Z"
    }
   }
  },
  {
   "cell_type": "markdown",
   "source": [
    "## Custom Feature Map\n",
    "\n",
    "In this section, we define a custom feature map for Quantum Machine Learning using Qiskit. A feature map is a crucial component in quantum machine learning algorithms such as quantum variational classifier (QVM). It maps classical data into a quantum state. This custom feature map can be integrated into various quantum machine learning algorithms to process classical data into a quantum state.\n",
    "\n",
    "The following Python code cell defines the custom feature map function and its usage:"
   ],
   "metadata": {
    "collapsed": false
   }
  },
  {
   "cell_type": "code",
   "execution_count": 4,
   "outputs": [],
   "source": [
    "def custom_q_circuit(num_qubits, reps, params):\n",
    "    qc = QuantumCircuit(num_qubits)\n",
    "\n",
    "    # Apply the specified number of repetitions\n",
    "    for qubit in range(num_qubits):\n",
    "            qc.h(qubit)\n",
    "\n",
    "    for _ in range(reps):\n",
    "        for qubit in range(num_qubits):\n",
    "            qc.rz(params[qubit], qubit)\n",
    "\n",
    "        for qubit in range(1, num_qubits):\n",
    "            for prev in range(qubit):\n",
    "                qc.cnot(prev, qubit)\n",
    "                qc.rz(params[prev] * params[qubit], qubit)\n",
    "\n",
    "        qc.barrier()\n",
    "\n",
    "    return qc"
   ],
   "metadata": {
    "collapsed": false,
    "ExecuteTime": {
     "start_time": "2023-10-02T21:05:21.379042Z",
     "end_time": "2023-10-02T21:05:21.402436Z"
    }
   }
  },
  {
   "cell_type": "markdown",
   "source": [
    "Now, let's visualize the custom feature map we defined earlier using specific parameters. The feature map is designed to transform classical data into a quantum state suitable for quantum machine learning tasks.\n",
    "\n",
    "You can adjust the parameters in param_vector to explore different quantum states produced by the custom feature map. This concludes our exploration of custom quantum circuits and feature maps using Qiskit for quantum machine learning. In the \"Conclusion\" section, you can summarize your findings and insights.\n",
    "\n",
    "The following Python code cell sets the parameters and generates a visualization of the custom feature map circuit:\n"
   ],
   "metadata": {
    "collapsed": false
   }
  },
  {
   "cell_type": "code",
   "execution_count": 5,
   "outputs": [
    {
     "data": {
      "text/plain": "<Figure size 1712x264.88 with 1 Axes>",
      "image/png": "[encoded data removed]"
     },
     "execution_count": 5,
     "metadata": {},
     "output_type": "execute_result"
    }
   ],
   "source": [
    "num_qubits = 4\n",
    "reps = 2\n",
    "param_vector = ParameterVector(\"x\", num_qubits)  # Modify this list with your parameters\n",
    "circuit = custom_q_circuit(num_qubits, reps, param_vector)\n",
    "\n",
    "# Draw the circuit\n",
    "circuit.draw(\"mpl\", fold=27)"
   ],
   "metadata": {
    "collapsed": false,
    "ExecuteTime": {
     "start_time": "2023-10-02T21:05:21.399438Z",
     "end_time": "2023-10-02T21:05:21.613641Z"
    }
   }
  },
  {
   "cell_type": "markdown",
   "source": [
    "## Conclusions\n",
    "\n",
    "In this notebook, we embarked on a journey to explore quantum circuits and their application in Quantum Machine Learning (Quantum ML) using the Qiskit library. We covered several essential concepts and implemented custom quantum circuits to gain a deeper understanding of quantum operations and their role in Quantum ML.\n",
    "\n",
    "Throughout this notebook, we've laid the foundation for further exploration of Quantum ML and quantum computing. Quantum circuits offer a unique approach to data processing and solving complex problems, and Qiskit provides a powerful toolkit to harness their potential.\n",
    "\n",
    "As you continue your journey into the world of quantum computing and Quantum ML, remember that this notebook serves as a starting point. Feel free to experiment with different quantum circuits, parameters, and applications to unlock the full potential of quantum technology.\n"
   ],
   "metadata": {
    "collapsed": false
   }
  }
 ],
 "metadata": {
  "kernelspec": {
   "display_name": "Python 3",
   "language": "python",
   "name": "python3"
  },
  "language_info": {
   "codemirror_mode": {
    "name": "ipython",
    "version": 2
   },
   "file_extension": ".py",
   "mimetype": "text/x-python",
   "name": "python",
   "nbconvert_exporter": "python",
   "pygments_lexer": "ipython2",
   "version": "2.7.6"
  }
 },
 "nbformat": 4,
 "nbformat_minor": 0
}
