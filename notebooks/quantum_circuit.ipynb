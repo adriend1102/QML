{
 "cells": [
  {
   "cell_type": "markdown",
   "source": [
    "# Quantum circuit implementation using Qiskit\n",
    "\n",
    "\n",
    "* **Author**: yeray142 (Yeray C.)\n",
    "* **Date**: 2023/09/30\n",
    "* **Updated**: None\n",
    "* **Version**: 1.0\n",
    "* **Description**: Custom quantum circuit implemented using Qiskit ML framework."
   ],
   "metadata": {
    "collapsed": false
   }
  },
  {
   "cell_type": "markdown",
   "source": [
    "## Setup"
   ],
   "metadata": {
    "collapsed": false
   }
  },
  {
   "cell_type": "code",
   "execution_count": 1,
   "metadata": {
    "collapsed": true,
    "ExecuteTime": {
     "start_time": "2023-09-30T16:43:37.328049Z",
     "end_time": "2023-09-30T16:43:38.960905Z"
    }
   },
   "outputs": [],
   "source": [
    "from qiskit.circuit import Parameter, ParameterVector\n",
    "from qiskit import QuantumCircuit\n",
    "import matplotlib.pyplot as plt"
   ]
  },
  {
   "cell_type": "markdown",
   "source": [
    "## Quantum circuit"
   ],
   "metadata": {
    "collapsed": false
   }
  },
  {
   "cell_type": "code",
   "execution_count": 7,
   "outputs": [
    {
     "data": {
      "text/plain": "<Figure size 327.252x144.48 with 1 Axes>",
      "image/png": "[encoded data removed]"
     },
     "execution_count": 7,
     "metadata": {},
     "output_type": "execute_result"
    }
   ],
   "source": [
    "inputs = ParameterVector(\"input\", 2)\n",
    "x = ParameterVector(\"x\", 4)\n",
    "\n",
    "qc = QuantumCircuit(2)\n",
    "qc.h(0)\n",
    "qc.h(1)\n",
    "qc.rz(x[0], 0)\n",
    "qc.rz(x[1], 1)\n",
    "qc.cnot(0, 1) # Same as qc.cx(0, 1)\n",
    "qc.rz(x[0] * x[1], 1)\n",
    "qc.draw(\"mpl\")"
   ],
   "metadata": {
    "collapsed": false,
    "ExecuteTime": {
     "start_time": "2023-09-30T16:48:35.527807Z",
     "end_time": "2023-09-30T16:48:35.593309Z"
    }
   }
  },
  {
   "cell_type": "markdown",
   "source": [
    "## Defining a function with the circuit"
   ],
   "metadata": {
    "collapsed": false
   }
  },
  {
   "cell_type": "code",
   "execution_count": 10,
   "outputs": [
    {
     "data": {
      "text/plain": "<Figure size 327.252x144.48 with 1 Axes>",
      "image/png": "[encoded data removed]"
     },
     "execution_count": 10,
     "metadata": {},
     "output_type": "execute_result"
    }
   ],
   "source": [
    "def q_circuit(params):\n",
    "    qc = QuantumCircuit(2)\n",
    "    qc.h(0)\n",
    "    qc.h(1)\n",
    "    qc.rz(params[0], 0)\n",
    "    qc.rz(params[1], 1)\n",
    "    qc.cnot(0, 1) # Same as qc.cx(0, 1)\n",
    "    qc.rz(params[0] * params[1], 1)\n",
    "    return qc\n",
    "\n",
    "x = ParameterVector(\"x\", 4)\n",
    "circuit = q_circuit(x)\n",
    "circuit.draw(\"mpl\")"
   ],
   "metadata": {
    "collapsed": false,
    "ExecuteTime": {
     "start_time": "2023-09-30T16:52:28.281565Z",
     "end_time": "2023-09-30T16:52:28.360590Z"
    }
   }
  },
  {
   "cell_type": "markdown",
   "source": [
    "## Defining Feature Map based on our custom quantum circuit"
   ],
   "metadata": {
    "collapsed": false
   }
  },
  {
   "cell_type": "code",
   "execution_count": 30,
   "outputs": [
    {
     "data": {
      "text/plain": "<Figure size 748.797x204.68 with 1 Axes>",
      "image/png": "[encoded data removed]"
     },
     "execution_count": 30,
     "metadata": {},
     "output_type": "execute_result"
    }
   ],
   "source": [
    "def custom_q_circuit(num_qubits, reps, params):\n",
    "    qc = QuantumCircuit(num_qubits)\n",
    "\n",
    "    # Apply the specified number of repetitions\n",
    "    for qubit in range(num_qubits):\n",
    "            qc.h(qubit)\n",
    "\n",
    "    for _ in range(reps):\n",
    "        for qubit in range(num_qubits):\n",
    "            qc.rz(params[qubit], qubit)\n",
    "\n",
    "        for qubit in range(num_qubits - 1):\n",
    "            qc.cnot(qubit, qubit + 1)\n",
    "\n",
    "            # TODO: Fix this part\n",
    "            qc.rz(params[qubit - 1] * params[qubit], qubit)\n",
    "\n",
    "        qc.barrier()\n",
    "\n",
    "    return qc\n",
    "\n",
    "num_qubits = 3\n",
    "reps = 2\n",
    "param_vector = ParameterVector(\"x\", num_qubits)  # Modify this list with your parameters\n",
    "circuit = custom_q_circuit(num_qubits, reps, param_vector)\n",
    "\n",
    "# Draw the circuit\n",
    "circuit.draw(\"mpl\")"
   ],
   "metadata": {
    "collapsed": false,
    "ExecuteTime": {
     "start_time": "2023-09-30T17:07:51.695235Z",
     "end_time": "2023-09-30T17:07:51.812566Z"
    }
   }
  }
 ],
 "metadata": {
  "kernelspec": {
   "display_name": "Python 3",
   "language": "python",
   "name": "python3"
  },
  "language_info": {
   "codemirror_mode": {
    "name": "ipython",
    "version": 2
   },
   "file_extension": ".py",
   "mimetype": "text/x-python",
   "name": "python",
   "nbconvert_exporter": "python",
   "pygments_lexer": "ipython2",
   "version": "2.7.6"
  }
 },
 "nbformat": 4,
 "nbformat_minor": 0
}
